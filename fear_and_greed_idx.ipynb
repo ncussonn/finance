{
 "cells": [
  {
   "cell_type": "code",
   "execution_count": 1,
   "id": "86845edc",
   "metadata": {},
   "outputs": [
    {
     "name": "stdout",
     "output_type": "stream",
     "text": [
      "Fear & Greed Index Value: 72.4571428571429\n",
      "Sentiment: greed\n"
     ]
    }
   ],
   "source": [
    "import fear_and_greed\n",
    "index_data = fear_and_greed.get()\n",
    "print(f\"Fear & Greed Index Value: {index_data.value}\")\n",
    "print(f\"Sentiment: {index_data.description}\")"
   ]
  },
  {
   "cell_type": "code",
   "execution_count": null,
   "id": "33e8d7a8",
   "metadata": {},
   "outputs": [],
   "source": []
  }
 ],
 "metadata": {
  "kernelspec": {
   "display_name": "finance",
   "language": "python",
   "name": "python3"
  },
  "language_info": {
   "codemirror_mode": {
    "name": "ipython",
    "version": 3
   },
   "file_extension": ".py",
   "mimetype": "text/x-python",
   "name": "python",
   "nbconvert_exporter": "python",
   "pygments_lexer": "ipython3",
   "version": "3.11.12"
  }
 },
 "nbformat": 4,
 "nbformat_minor": 5
}
