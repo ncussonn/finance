{
 "cells": [
  {
   "cell_type": "markdown",
   "id": "1c4ee3ce",
   "metadata": {},
   "source": [
    "### Gold / Silver Ratio Calculator"
   ]
  },
  {
   "cell_type": "code",
   "execution_count": 2,
   "id": "8c843e80",
   "metadata": {},
   "outputs": [
    {
     "name": "stdout",
     "output_type": "stream",
     "text": [
      "Gold: $3346.60 per ounce\n",
      "Silver: $36.12 per ounce\n",
      "Gold/Silver Ratio: 92.64\n",
      "Silver likely undervalued.\n"
     ]
    }
   ],
   "source": [
    "import yfinance as yf\n",
    "\n",
    "gold = yf.Ticker(\"GC=F\")    # Gold Futures\n",
    "silver = yf.Ticker(\"SI=F\")  # Silver Futures\n",
    "\n",
    "gold_price = gold.info.get('regularMarketPrice')\n",
    "silver_price = silver.info.get('regularMarketPrice')\n",
    "\n",
    "print(f\"Gold: ${gold_price:.2f} per ounce\")\n",
    "print(f\"Silver: ${silver_price:.2f} per ounce\")\n",
    "gold_to_silv_ratio = gold_price / silver_price\n",
    "print(f\"Gold/Silver Ratio: {gold_to_silv_ratio:.2f}\")\n",
    "\n",
    "if gold_to_silv_ratio > 80:\n",
    "    print(f\"Silver likely undervalued.\")\n",
    "elif gold_to_silv_ratio < 60:\n",
    "    print(f\"Gold likely undervalued.\")\n",
    "else:\n",
    "    print(f\"Unclear if gold or silver undervalued.\")"
   ]
  },
  {
   "cell_type": "code",
   "execution_count": null,
   "id": "54a8ef73",
   "metadata": {},
   "outputs": [],
   "source": []
  }
 ],
 "metadata": {
  "kernelspec": {
   "display_name": "finance",
   "language": "python",
   "name": "python3"
  },
  "language_info": {
   "codemirror_mode": {
    "name": "ipython",
    "version": 3
   },
   "file_extension": ".py",
   "mimetype": "text/x-python",
   "name": "python",
   "nbconvert_exporter": "python",
   "pygments_lexer": "ipython3",
   "version": "3.11.12"
  }
 },
 "nbformat": 4,
 "nbformat_minor": 5
}
