{
 "cells": [
  {
   "cell_type": "code",
   "execution_count": 23,
   "id": "0586d909",
   "metadata": {},
   "outputs": [],
   "source": [
    "\n",
    "import yfinance as yf\n",
    "import time\n",
    "\n",
    "def get_market_caps_dict(tickers, batch_size=50, delay=0.5) -> dict:\n",
    "    \"\"\"\n",
    "    Retrieves the most recent market caps of the given tickers using yfinance.\n",
    "\n",
    "    Args:\n",
    "        tickers (list): List of ticker symbols (str).\n",
    "        batch_size (int): Number of tickers to query per batch (avoid throttling).\n",
    "        delay (float): Time (in seconds) to wait between batches.\n",
    "\n",
    "    Returns:\n",
    "        dict: Dictionary with tickers as keys and market cap in USD as values.\n",
    "    \"\"\"\n",
    "    market_caps = {}\n",
    "\n",
    "    for i in range(0, len(tickers), batch_size):\n",
    "        batch = tickers[i:i+batch_size]\n",
    "        data = yf.Tickers(' '.join(batch)).tickers\n",
    "        for ticker in batch:\n",
    "            try:\n",
    "                info = data[ticker].info\n",
    "                cap = info.get('marketCap', None)\n",
    "                if cap is not None:\n",
    "                    market_caps[ticker] = cap\n",
    "            except Exception as e:\n",
    "                print(f\"Failed for {ticker}: {e}\")\n",
    "\n",
    "\n",
    "        time.sleep(delay)  # Avoid rate limits\n",
    "\n",
    "    return market_caps\n",
    "\n",
    "def compute_total_mcap(tickers, mcaps) -> float:\n",
    "    total_mcap = 0\n",
    "    for ticker in tickers:\n",
    "        mcap = mcaps[ticker]\n",
    "        total_mcap += mcap\n",
    "\n",
    "    return total_mcap\n",
    "\n",
    "def compute_weights(tickers: list, mcaps: dict) -> dict:\n",
    "\n",
    "    total_mcap = compute_total_mcap(tickers, mcaps)\n",
    "\n",
    "    data = {}\n",
    "    for ticker in tickers:\n",
    "        mcap = mcaps[ticker]\n",
    "        weighted_mcap_in_idx = mcap / total_mcap\n",
    "        data[ticker] = {'mcap':mcap, 'weight':weighted_mcap_in_idx}\n",
    "\n",
    "    return data\n"
   ]
  },
  {
   "cell_type": "code",
   "execution_count": 24,
   "id": "8d88854d",
   "metadata": {},
   "outputs": [],
   "source": [
    "tickers = ['NVDA',\n",
    "           'TSM',\n",
    "           'ASX',\n",
    "           'AMKR',\n",
    "           'MU',\n",
    "           'ASML',\n",
    "           'AMAT',\n",
    "           'LRCX',\n",
    "           'KLAC',\n",
    "           'SMCI']\n",
    "\n",
    "mcaps = get_market_caps_dict(tickers)"
   ]
  },
  {
   "cell_type": "code",
   "execution_count": 25,
   "id": "a0476ef7",
   "metadata": {},
   "outputs": [],
   "source": [
    "data = compute_weights(tickers, mcaps)"
   ]
  },
  {
   "cell_type": "code",
   "execution_count": 26,
   "id": "e04ec789",
   "metadata": {},
   "outputs": [],
   "source": [
    "def compute_allocation(investment: float, data: dict) -> dict:\n",
    "\n",
    "    for ticker in data:\n",
    "        allocation_for_ticker = investment * data[ticker]['weight']\n",
    "        data[ticker]['allocation'] = allocation_for_ticker\n",
    "\n",
    "    return data"
   ]
  },
  {
   "cell_type": "code",
   "execution_count": 27,
   "id": "e6797e57",
   "metadata": {},
   "outputs": [],
   "source": [
    "def print_data(data: dict):\n",
    "\n",
    "    print(\"TICKER\\tMARKETCAP\\tPERCENT\\tALLOCATION\")\n",
    "    print(\"____________________________________\\n\")\n",
    "    for ticker in data:\n",
    "        mcap = data[ticker]['mcap']\n",
    "        percent = data[ticker]['weight']*100\n",
    "        allocation = data[ticker]['allocation']\n",
    "        print(f\"{ticker}\\t${mcap}\\t{percent:.2f}\\t{allocation:.2f}\")"
   ]
  },
  {
   "cell_type": "code",
   "execution_count": 28,
   "id": "0f8fb30c",
   "metadata": {},
   "outputs": [
    {
     "name": "stdout",
     "output_type": "stream",
     "text": [
      "TICKER\tMARKETCAP\tPERCENT\tALLOCATION\n",
      "____________________________________\n",
      "\n",
      "NVDA\t$2876881764352\t63.49\t3174.38\n",
      "TSM\t$914440585216\t20.18\t1009.00\n",
      "ASX\t$20089661440\t0.44\t22.17\n",
      "AMKR\t$4472948736\t0.10\t4.94\n",
      "MU\t$95697518592\t2.11\t105.59\n",
      "ASML\t$280892243968\t6.20\t309.94\n",
      "AMAT\t$128524115968\t2.84\t141.81\n",
      "LRCX\t$97353826304\t2.15\t107.42\n",
      "KLAC\t$93587087360\t2.07\t103.26\n",
      "SMCI\t$19473225728\t0.43\t21.49\n"
     ]
    }
   ],
   "source": [
    "investment = 5000\n",
    "data = compute_allocation(investment, data)\n",
    "print_data(data)"
   ]
  }
 ],
 "metadata": {
  "kernelspec": {
   "display_name": "finance",
   "language": "python",
   "name": "python3"
  },
  "language_info": {
   "codemirror_mode": {
    "name": "ipython",
    "version": 3
   },
   "file_extension": ".py",
   "mimetype": "text/x-python",
   "name": "python",
   "nbconvert_exporter": "python",
   "pygments_lexer": "ipython3",
   "version": "3.11.12"
  }
 },
 "nbformat": 4,
 "nbformat_minor": 5
}
