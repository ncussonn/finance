{
 "cells": [
  {
   "cell_type": "code",
   "execution_count": 1,
   "id": "ece5e90d",
   "metadata": {},
   "outputs": [
    {
     "name": "stderr",
     "output_type": "stream",
     "text": [
      "[*********************100%***********************]  25 of 25 completed\n"
     ]
    }
   ],
   "source": [
    "%matplotlib tk\n",
    "import yfinance as yf\n",
    "import matplotlib.pyplot as plt\n",
    "from datetime import datetime, timedelta\n",
    "import distinctipy\n",
    "\n",
    "# List of tickers in SMH\n",
    "tickers = [\n",
    "    \"NVDA\", \"TSM\", \"AVGO\", \"AMD\", \"AMAT\", \"LRCX\", \"ASML\", \"KLAC\", \"QCOM\", \"ADI\",\n",
    "    \"SNPS\", \"MU\", \"TXN\", \"INTC\", \"CDNS\", \"MRVL\", \"NXPI\", \"MCHP\", \"MPWR\", \"STM\",\n",
    "    \"ON\", \"TER\", \"SWKS\", \"OLED\", \"QRVO\"\n",
    "]\n",
    "\n",
    "# Date range\n",
    "end_date = datetime.today()\n",
    "start_date = end_date - timedelta(weeks=52)\n",
    "\n",
    "# Download price data using 'Close'\n",
    "data = yf.download(tickers, start=start_date, end=end_date, auto_adjust=True)[\"Close\"]\n",
    "\n",
    "# Normalize prices\n",
    "normalized = data / data.iloc[0]\n",
    "\n",
    "# Distinct colors and linestyles\n",
    "colors = distinctipy.get_colors(len(tickers))\n",
    "linestyles = ['-', '--', '-.', ':']\n",
    "style_cycle = [linestyles[i % len(linestyles)] for i in range(len(tickers))]\n",
    "\n",
    "# Plot\n",
    "plt.figure(figsize=(18, 10))\n",
    "ax = plt.gca()\n",
    "\n",
    "for i, ticker in enumerate(tickers):\n",
    "    line_data = normalized[ticker]\n",
    "    ax.plot(line_data.index, line_data.values, label=ticker,\n",
    "            color=colors[i], linestyle=style_cycle[i])\n",
    "\n",
    "    # Add end-of-line label\n",
    "    x_last = line_data.index[-1]\n",
    "    y_last = line_data.values[-1]\n",
    "    ax.text(x_last, y_last, f' {ticker}', color=colors[i],\n",
    "            fontsize=8, verticalalignment='center', alpha=0.9)\n",
    "\n",
    "# Titles and formatting\n",
    "plt.title(\"Normalized Price Performance of SMH Holdings (Past 52 Weeks)\", fontsize=14)\n",
    "plt.xlabel(\"Date\")\n",
    "plt.ylabel(\"Normalized Price\")\n",
    "plt.grid(True, linestyle='--', linewidth=0.5)\n",
    "\n",
    "# Optional: Remove legend since labels are on lines\n",
    "# plt.legend(loc='center left', bbox_to_anchor=(1.0, 0.5), fontsize='small')\n",
    "\n",
    "plt.tight_layout()\n",
    "plt.show()"
   ]
  },
  {
   "cell_type": "code",
   "execution_count": null,
   "id": "f3df69ad",
   "metadata": {},
   "outputs": [],
   "source": []
  }
 ],
 "metadata": {
  "kernelspec": {
   "display_name": "finance",
   "language": "python",
   "name": "python3"
  },
  "language_info": {
   "codemirror_mode": {
    "name": "ipython",
    "version": 3
   },
   "file_extension": ".py",
   "mimetype": "text/x-python",
   "name": "python",
   "nbconvert_exporter": "python",
   "pygments_lexer": "ipython3",
   "version": "3.11.12"
  }
 },
 "nbformat": 4,
 "nbformat_minor": 5
}
